{
 "cells": [
  {
   "cell_type": "markdown",
   "metadata": {},
   "source": [
    "# Lab 3 Exercises"
   ]
  },
  {
   "cell_type": "markdown",
   "metadata": {},
   "source": [
    "The exercises below will be using the `world_factbook.csv` dataset used in the lab notebook."
   ]
  },
  {
   "cell_type": "code",
   "execution_count": null,
   "metadata": {},
   "outputs": [],
   "source": [
    "import numpy as np\n",
    "import pandas as pd\n",
    "\n",
    "# Try/Except block to load the data remotely for Google Colab users\n",
    "try:\n",
    "    df = pd.read_csv('../data/world_factbook.csv')\n",
    "except FileNotFoundError:\n",
    "    data_url = 'https://raw.githubusercontent.com/GUC-DM/W2021/main/data/world_factbook.csv'\n",
    "    df = pd.read_csv(data_url)\n",
    "df.head()"
   ]
  },
  {
   "cell_type": "markdown",
   "metadata": {},
   "source": [
    "_Note: the column names have been simplified for ease of access. The original more descriptive column names are shown below._\n",
    "\n",
    "\\# | Column\n",
    "---|  ------\n",
    "0  | Country\n",
    "1  | Region\n",
    "2  | Population\n",
    "3  | Area (sq. mi.)\n",
    "4  | Pop. Density (per sq. mi.)\n",
    "5  | Coastline (coast/area ratio)\n",
    "6  | Net migration\n",
    "7  | Infant mortality (per 1000 births)\n",
    "8  | GDP (in \\$US)\n",
    "9  | Literacy (\\%)\n",
    "10 | Phones (per 1000)\n",
    "11 | Arable (\\%)\n",
    "12 | Crops (\\%)\n",
    "13 | Other (\\%)\n",
    "14 | Climate\n",
    "15 | Birthrate (per 1000)\n",
    "16 | Deathrate (per 1000)\n",
    "17 | Agriculture (\\%)\n",
    "18 | Industry (\\%)\n",
    "19 | Service (\\%)"
   ]
  },
  {
   "cell_type": "markdown",
   "metadata": {},
   "source": [
    "## Exercise 1\n",
    "\n",
    "Display the top 10 and bottom 10 countries according to their literacy rate "
   ]
  },
  {
   "cell_type": "code",
   "execution_count": null,
   "metadata": {},
   "outputs": [],
   "source": []
  },
  {
   "cell_type": "code",
   "execution_count": null,
   "metadata": {},
   "outputs": [],
   "source": []
  },
  {
   "cell_type": "markdown",
   "metadata": {},
   "source": [
    "## Exercise 2"
   ]
  },
  {
   "cell_type": "markdown",
   "metadata": {},
   "source": [
    "Which country has more phones than citizens?"
   ]
  },
  {
   "cell_type": "code",
   "execution_count": null,
   "metadata": {},
   "outputs": [],
   "source": []
  },
  {
   "cell_type": "markdown",
   "metadata": {},
   "source": [
    "## Exercise 3\n"
   ]
  },
  {
   "cell_type": "markdown",
   "metadata": {},
   "source": [
    "Display the total world population and GDP by applying `sum()` on the population and GDP column"
   ]
  },
  {
   "cell_type": "code",
   "execution_count": null,
   "metadata": {},
   "outputs": [],
   "source": []
  },
  {
   "cell_type": "markdown",
   "metadata": {},
   "source": [
    "## Exercise 4\n"
   ]
  },
  {
   "cell_type": "markdown",
   "metadata": {},
   "source": [
    "Display the total area of each region. Which region occupies the most area?"
   ]
  },
  {
   "cell_type": "code",
   "execution_count": null,
   "metadata": {},
   "outputs": [],
   "source": []
  },
  {
   "cell_type": "markdown",
   "metadata": {},
   "source": [
    "## Exercise 5\n"
   ]
  },
  {
   "cell_type": "markdown",
   "metadata": {},
   "source": [
    "Create a new column called `net_pop_increase` based on `birthrate` - `deathrate`. Which countries had the largest increase? Which had the lowest increase?"
   ]
  },
  {
   "cell_type": "code",
   "execution_count": null,
   "metadata": {},
   "outputs": [],
   "source": []
  },
  {
   "cell_type": "markdown",
   "metadata": {},
   "source": [
    "## Exercise 6"
   ]
  },
  {
   "cell_type": "markdown",
   "metadata": {},
   "source": [
    "Aggregate the `net_pop_increase` column you calculated in exercise 5 per region. Which region had the largest total increase? Which region had the lowest total increase?"
   ]
  },
  {
   "cell_type": "code",
   "execution_count": null,
   "metadata": {},
   "outputs": [],
   "source": []
  }
 ],
 "metadata": {
  "kernelspec": {
   "display_name": "Python 3",
   "language": "python",
   "name": "python3"
  },
  "language_info": {
   "codemirror_mode": {
    "name": "ipython",
    "version": 3
   },
   "file_extension": ".py",
   "mimetype": "text/x-python",
   "name": "python",
   "nbconvert_exporter": "python",
   "pygments_lexer": "ipython3",
   "version": "3.8.5"
  }
 },
 "nbformat": 4,
 "nbformat_minor": 4
}
