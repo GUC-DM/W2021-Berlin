{
 "cells": [
  {
   "cell_type": "markdown",
   "source": [
    "# Lab 1 Exercises Solution"
   ],
   "metadata": {}
  },
  {
   "cell_type": "markdown",
   "source": [
    "## Exercise 1"
   ],
   "metadata": {}
  },
  {
   "cell_type": "markdown",
   "source": [
    "Mini-scenario: you are required to create a unique id for the university semesters\n",
    "\n",
    "Use string concatenation to combine the given `season` and `year`, and assign it to a variable named `semester`."
   ],
   "metadata": {}
  },
  {
   "cell_type": "code",
   "execution_count": 1,
   "source": [
    "season = \"Winter\"\n",
    "year = 2020\n",
    "\n",
    "# solution\n",
    "semester = season + str(year)\n",
    "semester\n",
    "\n",
    "# alternatively (no type casting required using the string formatter)\n",
    "semester = f\"{season}{year}\"\n",
    "semester"
   ],
   "outputs": [
    {
     "output_type": "execute_result",
     "data": {
      "text/plain": [
       "'Winter2020'"
      ]
     },
     "metadata": {},
     "execution_count": 1
    }
   ],
   "metadata": {}
  },
  {
   "cell_type": "markdown",
   "source": [
    "## Exercise 2"
   ],
   "metadata": {}
  },
  {
   "cell_type": "markdown",
   "source": [
    "Mini-scenario: as part of data analytics task for quality control, you are looking for instances where a manufactured product has deviated from manufacturing tolerance.\n",
    "\n",
    "Create a boolean expression that checks if the `product_weight` is **not** within (i.e. between) the `lower_limit` and the `upper_limit`"
   ],
   "metadata": {}
  },
  {
   "cell_type": "code",
   "execution_count": 2,
   "source": [
    "lower_limit = 12.5\n",
    "upper_limit = 17.5\n",
    "\n",
    "product_weight = 15\n",
    "\n",
    "# solution\n",
    "product_weight < lower_limit or product_weight > upper_limit"
   ],
   "outputs": [
    {
     "output_type": "execute_result",
     "data": {
      "text/plain": [
       "False"
      ]
     },
     "metadata": {},
     "execution_count": 2
    }
   ],
   "metadata": {}
  },
  {
   "cell_type": "markdown",
   "source": [
    "## Exercise 3"
   ],
   "metadata": {}
  },
  {
   "cell_type": "markdown",
   "source": [
    "Mini-scenario: after sorting a particular column in a dataset, you'd like to get the first and last record.\n",
    "\n",
    "Given a sorted array `data`, access and print out the minimum value and the maximum value of the array using array indexing."
   ],
   "metadata": {}
  },
  {
   "cell_type": "code",
   "execution_count": 3,
   "source": [
    "data = [5,2,3,9,7,4,8]\n",
    "data = sorted(data)\n",
    "\n",
    "# solution\n",
    "print(data[0])\n",
    "print(data[-1])\n",
    "print(data)"
   ],
   "outputs": [
    {
     "output_type": "stream",
     "name": "stdout",
     "text": [
      "2\n",
      "9\n",
      "[2, 3, 4, 5, 7, 8, 9]\n"
     ]
    }
   ],
   "metadata": {}
  },
  {
   "cell_type": "markdown",
   "source": [
    "## Exercise 4"
   ],
   "metadata": {}
  },
  {
   "cell_type": "markdown",
   "source": [
    "Mini-scenario: As part of an outlier analysis task, you'd like to re-calculate the average salary without the top and bottom values to see if the analysis is skewed due to extreme values (outliers).\n",
    "\n",
    "A very small part of this list is provided below. Calculate the average of the middle 80% of the list (i.e. excluding the first 10% of values and the last 10% of values)."
   ],
   "metadata": {}
  },
  {
   "cell_type": "code",
   "execution_count": 4,
   "source": [
    "salaries = [1200, 15000, 20000, 30000, 35000, 40000, 45000, 50000, 60000, 72000, 144000, 500000]\n",
    "avg = sum(salaries) / len(salaries)\n",
    "print(\"Before removing outliers, the average is \", avg)\n",
    "\n",
    "# solution\n",
    "ten_percent = int(len(salaries) * 0.1)\n",
    "new_salaries = salaries[ten_percent:-ten_percent]\n",
    "new_avg = sum(new_salaries) / len(new_salaries)\n",
    "\n",
    "print(\"After removing outliers, the average is \", new_avg)"
   ],
   "outputs": [
    {
     "output_type": "stream",
     "name": "stdout",
     "text": [
      "Before removing outliers, the average is  84350.0\n",
      "After removing outliers, the average is  51100.0\n"
     ]
    }
   ],
   "metadata": {}
  },
  {
   "cell_type": "markdown",
   "source": [
    "## Exercise 5"
   ],
   "metadata": {}
  },
  {
   "cell_type": "markdown",
   "source": [
    "Mini-scenario: you created a function that returns some basic statistics of numerical data. The function returns a tuple in the form `(mean, median, maximum, minimum)`\n",
    "\n",
    "Given `stats`, use **tuple unpacking** to initialize the following variables in one line:\n",
    "\n",
    "`mean`, `median`, `maximum`, `minimum`"
   ],
   "metadata": {}
  },
  {
   "cell_type": "code",
   "execution_count": 5,
   "source": [
    "stats = (20,15,40,0)\n",
    "\n",
    "# solution\n",
    "mean, median, maximum, minimum = stats\n",
    "mean, median, maximum, minimum"
   ],
   "outputs": [
    {
     "output_type": "execute_result",
     "data": {
      "text/plain": [
       "(20, 15, 40, 0)"
      ]
     },
     "metadata": {},
     "execution_count": 5
    }
   ],
   "metadata": {}
  },
  {
   "cell_type": "markdown",
   "source": [
    "## Exercise 6"
   ],
   "metadata": {}
  },
  {
   "cell_type": "markdown",
   "source": [
    "Mini-scenario: you're dealing with a dataset containing flight data, and would like to group the flights by cities, but you only have the terminal codes!\n",
    "\n",
    "Create a dictionary for the following (subset) of airport codes, which will be used to map the terminal code to the airport's city:\n",
    "\n",
    "| key | value |\n",
    "|-|-|\n",
    "|CAI| Cairo|\n",
    "|LAX| Los Angeles|\n",
    "|TYO| Tokyo|\n",
    "|DXB| Dubai|\n"
   ],
   "metadata": {}
  },
  {
   "cell_type": "code",
   "execution_count": 6,
   "source": [
    "# solution\n",
    "airport_mapping = {\n",
    "    'CAI': 'Cairo',\n",
    "    'LAX': 'Los Angeles',\n",
    "    'TYO': 'Tokyo',\n",
    "    'DXB': 'Dubai'\n",
    "}\n",
    "\n",
    "airport_mapping"
   ],
   "outputs": [
    {
     "output_type": "execute_result",
     "data": {
      "text/plain": [
       "{'CAI': 'Cairo', 'LAX': 'Los Angeles', 'TYO': 'Tokyo', 'DXB': 'Dubai'}"
      ]
     },
     "metadata": {},
     "execution_count": 6
    }
   ],
   "metadata": {}
  },
  {
   "cell_type": "markdown",
   "source": [
    "Add the following airport codes to the dictionary you created in the previous exercise:\n",
    "\n",
    "| key | value |\n",
    "|-|-|\n",
    "|SXF| Berlin|\n",
    "|JFK| New York|"
   ],
   "metadata": {}
  },
  {
   "cell_type": "code",
   "execution_count": 7,
   "source": [
    "# solution\n",
    "airport_mapping['SXF'] = 'Berlin'\n",
    "airport_mapping['JFK'] = 'New York'\n",
    "\n",
    "airport_mapping"
   ],
   "outputs": [
    {
     "output_type": "execute_result",
     "data": {
      "text/plain": [
       "{'CAI': 'Cairo',\n",
       " 'LAX': 'Los Angeles',\n",
       " 'TYO': 'Tokyo',\n",
       " 'DXB': 'Dubai',\n",
       " 'SXF': 'Berlin',\n",
       " 'JFK': 'New York'}"
      ]
     },
     "metadata": {},
     "execution_count": 7
    }
   ],
   "metadata": {}
  },
  {
   "cell_type": "markdown",
   "source": [
    "## Exercise 7"
   ],
   "metadata": {}
  },
  {
   "cell_type": "markdown",
   "source": [
    "Mini-scenario: you're analyzing transaction data of an ice-cream store chain, and would like to quickly have a look at the kinds of ice-cream that the store sells to better understand the business.\n",
    "\n",
    "Transaction data is provided in the dict `store_data` below. Retrieve the unique elements under `item`."
   ],
   "metadata": {}
  },
  {
   "cell_type": "code",
   "execution_count": 8,
   "source": [
    "store_data = {\n",
    "    'item': [\"Vanilla\", \"Chocolate\", \"Mango\", \"Chocolate\", \"Hazelnut\", \"Blueberry\", \"Vanilla\"],\n",
    "    'tx_id': [12314, 12314, 23133, 39668, 67898, 76870, 90091, 90091],\n",
    "    'date':['2020-01-01', '2020-01-01', '2020-01-02', '2020-01-05', '2020-01-09', '2020-01-11', '2020-01-20', '2020-01-20']\n",
    "}\n",
    "\n",
    "# solution\n",
    "set(store_data['item'])"
   ],
   "outputs": [
    {
     "output_type": "execute_result",
     "data": {
      "text/plain": [
       "{'Blueberry', 'Chocolate', 'Hazelnut', 'Mango', 'Vanilla'}"
      ]
     },
     "metadata": {},
     "execution_count": 8
    }
   ],
   "metadata": {}
  },
  {
   "cell_type": "markdown",
   "source": [
    "## Exercise 8"
   ],
   "metadata": {}
  },
  {
   "cell_type": "markdown",
   "source": [
    "Mini-scenario: You have a dataset containing information about the the GDP and population of some selected countries in 2019. Unfortunately, the data is stored in a dict of lists, and your dev environment is missing the `pandas` library used for dataset loading and manipulation, so you have to access data manually.\n",
    "\n",
    "Given a dictionary `world_stats` with the following keys: 'Country', 'GDP' and 'Population', programmatically search for and print out the GDP for Egypt.\n",
    "\n",
    "Hint: use the `index` instance method ([python documentation](https://docs.python.org/3/tutorial/datastructures.html)) to get the index of a specific element in a list.\n",
    "\n",
    "_Note: GDP values are provided in billions of US dollars_"
   ],
   "metadata": {}
  },
  {
   "cell_type": "code",
   "execution_count": 9,
   "source": [
    "world_stats = {\n",
    "    'Country':    ['United States', 'Romania',    'China',  'Egypt', 'Germany', 'Greece'],\n",
    "    'GDP':        [22200          , 263.13   ,   15470   ,   331.36,      4160, 230.50  ],\n",
    "    'Population': [331002651      , 19237691 , 1439323776, 102334404, 83783942, 10423054]\n",
    "}\n",
    "\n",
    "# solution\n",
    "eg_idx = world_stats['Country'].index('Egypt')\n",
    "world_stats['GDP'][eg_idx]\n"
   ],
   "outputs": [
    {
     "output_type": "execute_result",
     "data": {
      "text/plain": [
       "331.36"
      ]
     },
     "metadata": {},
     "execution_count": 9
    }
   ],
   "metadata": {}
  },
  {
   "cell_type": "markdown",
   "source": [
    "Search for and store the statistics of the United States in a tuple.\n",
    "\n",
    "Expected output: `('United States', 22200, 331002651)` "
   ],
   "metadata": {}
  },
  {
   "cell_type": "code",
   "execution_count": 10,
   "source": [
    "# solution\n",
    "us_idx = world_stats['Country'].index('United States')\n",
    "\n",
    "(world_stats['Country'][us_idx], world_stats['GDP'][us_idx], world_stats['Population'][us_idx])"
   ],
   "outputs": [
    {
     "output_type": "execute_result",
     "data": {
      "text/plain": [
       "('United States', 22200, 331002651)"
      ]
     },
     "metadata": {},
     "execution_count": 10
    }
   ],
   "metadata": {}
  },
  {
   "cell_type": "markdown",
   "source": [
    "Add a new row to the `world_stats` dictionary with the following data:\n",
    "\n",
    "| Country | GDP | Population |\n",
    "|-|-|-|\n",
    "| Australia | 1480 | 25499884 |"
   ],
   "metadata": {}
  },
  {
   "cell_type": "code",
   "execution_count": 11,
   "source": [
    "# solution\n",
    "world_stats['Country'].append('Australia')\n",
    "world_stats['GDP'].append(1480)\n",
    "world_stats['Population'].append(25499884)\n",
    "\n",
    "world_stats"
   ],
   "outputs": [
    {
     "output_type": "execute_result",
     "data": {
      "text/plain": [
       "{'Country': ['United States',\n",
       "  'Romania',\n",
       "  'China',\n",
       "  'Egypt',\n",
       "  'Germany',\n",
       "  'Greece',\n",
       "  'Australia'],\n",
       " 'GDP': [22200, 263.13, 15470, 331.36, 4160, 230.5, 1480],\n",
       " 'Population': [331002651,\n",
       "  19237691,\n",
       "  1439323776,\n",
       "  102334404,\n",
       "  83783942,\n",
       "  10423054,\n",
       "  25499884]}"
      ]
     },
     "metadata": {},
     "execution_count": 11
    }
   ],
   "metadata": {}
  }
 ],
 "metadata": {
  "kernelspec": {
   "display_name": "Python 3 (ipykernel)",
   "language": "python",
   "name": "python3"
  },
  "language_info": {
   "codemirror_mode": {
    "name": "ipython",
    "version": 3
   },
   "file_extension": ".py",
   "mimetype": "text/x-python",
   "name": "python",
   "nbconvert_exporter": "python",
   "pygments_lexer": "ipython3",
   "version": "3.8.11"
  }
 },
 "nbformat": 4,
 "nbformat_minor": 4
}